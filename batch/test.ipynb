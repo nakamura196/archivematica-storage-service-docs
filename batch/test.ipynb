{
 "cells": [
  {
   "cell_type": "code",
   "execution_count": 1,
   "metadata": {},
   "outputs": [],
   "source": [
    "import polib\n",
    "from openai import OpenAI\n",
    "import time\n",
    "from dotenv import load_dotenv\n",
    "import os\n",
    "from tqdm import tqdm\n",
    "import glob"
   ]
  },
  {
   "cell_type": "code",
   "execution_count": 2,
   "metadata": {},
   "outputs": [],
   "source": [
    "client = OpenAI(api_key=os.getenv(\"OPENAI_API_KEY\"))"
   ]
  },
  {
   "cell_type": "code",
   "execution_count": 6,
   "metadata": {},
   "outputs": [
    {
     "ename": "ValueError",
     "evalue": "too many values to unpack (expected 2)",
     "output_type": "error",
     "traceback": [
      "\u001b[0;31m---------------------------------------------------------------------------\u001b[0m",
      "\u001b[0;31mValueError\u001b[0m                                Traceback (most recent call last)",
      "Cell \u001b[0;32mIn[6], line 37\u001b[0m\n\u001b[1;32m     33\u001b[0m files \u001b[38;5;241m=\u001b[39m glob\u001b[38;5;241m.\u001b[39mglob(\u001b[38;5;124m\"\u001b[39m\u001b[38;5;124m/Users/nakamura/git/kim/archivematica-storage-service-docs/locales/en/LC_MESSAGES/**/*.po\u001b[39m\u001b[38;5;124m\"\u001b[39m, recursive\u001b[38;5;241m=\u001b[39m\u001b[38;5;28;01mTrue\u001b[39;00m)\n\u001b[1;32m     35\u001b[0m files\u001b[38;5;241m.\u001b[39msort()\n\u001b[0;32m---> 37\u001b[0m \u001b[38;5;28;01mfor\u001b[39;00m input_po_path, i \u001b[38;5;129;01min\u001b[39;00m files: \u001b[38;5;66;03m# tqdm(files):\u001b[39;00m\n\u001b[1;32m     39\u001b[0m     \u001b[38;5;28mprint\u001b[39m(input_po_path, i \u001b[38;5;241m+\u001b[39m \u001b[38;5;241m1\u001b[39m, \u001b[38;5;124m\"\u001b[39m\u001b[38;5;124mof\u001b[39m\u001b[38;5;124m\"\u001b[39m, \u001b[38;5;28mlen\u001b[39m(files))\n\u001b[1;32m     41\u001b[0m \u001b[38;5;250m    \u001b[39m\u001b[38;5;124;03m'''\u001b[39;00m\n\u001b[1;32m     42\u001b[0m \u001b[38;5;124;03m    if \"fixity.po\" in input_po_path or \"administrators.po\" in input_po_path:\u001b[39;00m\n\u001b[1;32m     43\u001b[0m \u001b[38;5;124;03m        continue\u001b[39;00m\n\u001b[1;32m     44\u001b[0m \u001b[38;5;124;03m    '''\u001b[39;00m\n",
      "\u001b[0;31mValueError\u001b[0m: too many values to unpack (expected 2)"
     ]
    }
   ],
   "source": [
    "load_dotenv(override=True)\n",
    "\n",
    "def get_completion(system_message, user_message, model=\"gpt-3.5-turbo\"):\n",
    "    client = OpenAI()\n",
    "    \n",
    "    messages = [\n",
    "        {\"role\": \"system\", \"content\": system_message},\n",
    "        {\"role\": \"user\", \"content\": user_message}\n",
    "    ]\n",
    "    completion = client.chat.completions.create(\n",
    "        model=model,\n",
    "        messages=messages\n",
    "    )\n",
    "    return completion.choices[0].message.content\n",
    "\n",
    "def translate_text_to_japanese(text):\n",
    "    system_message = \"あなたはデジタルデータの長期保存に関する専門家です。Archivematicaに関するドキュメントを翻訳しています。以下のテキストを日本語に翻訳してください。\"\n",
    "\n",
    "    response = get_completion(system_message, text, model=\"gpt-4\") # , model=\"gpt-4\"\n",
    "    return response\n",
    "\n",
    "def translate_po_file(input_po_path, output_po_path):\n",
    "    \"\"\"`.po`ファイルを読み込み、各メッセージを日本語に翻訳して新しい`.po`ファイルに保存します。\"\"\"\n",
    "    po = polib.pofile(input_po_path)\n",
    "    for entry in tqdm(po):\n",
    "        if not entry.msgstr:\n",
    "            translated_text = translate_text_to_japanese(entry.msgid)\n",
    "            entry.msgstr = translated_text\n",
    "            # APIリクエストごとに適度な時間を置いてレートリミットに配慮\n",
    "            time.sleep(1)\n",
    "            po.save(output_po_path)\n",
    "\n",
    "files = glob.glob(\"/Users/nakamura/git/kim/archivematica-storage-service-docs/locales/en/LC_MESSAGES/**/*.po\", recursive=True)\n",
    "\n",
    "files.sort()\n",
    "\n",
    "for i in range(len(files)):\n",
    "    input_po_path = files[i]\n",
    "\n",
    "    print(input_po_path, i + 1, \"of\", len(files))\n",
    "\n",
    "    '''\n",
    "    if \"fixity.po\" in input_po_path or \"administrators.po\" in input_po_path:\n",
    "        continue\n",
    "    '''\n",
    "\n",
    "    if \"administrators.po\" not in input_po_path:\n",
    "        continue\n",
    "\n",
    "    # 入力と出力の`.po`ファイルパスを指定\n",
    "    # input_po_path = '/Users/nakamura/git/kim/archivematica-storage-service-docs/locales/en/LC_MESSAGES/administrators.po'\n",
    "    # output_po_path = '/Users/nakamura/git/kim/archivematica-storage-service-docs/locales/ja/LC_MESSAGES/administrators.po'\n",
    "\n",
    "    output_po_path = input_po_path.replace('/en/', '/ja/')\n",
    "\n",
    "    # `.po`ファイルの翻訳を実行\n",
    "    translate_po_file(input_po_path, output_po_path)"
   ]
  }
 ],
 "metadata": {
  "kernelspec": {
   "display_name": ".venv",
   "language": "python",
   "name": "python3"
  },
  "language_info": {
   "codemirror_mode": {
    "name": "ipython",
    "version": 3
   },
   "file_extension": ".py",
   "mimetype": "text/x-python",
   "name": "python",
   "nbconvert_exporter": "python",
   "pygments_lexer": "ipython3",
   "version": "3.9.11"
  }
 },
 "nbformat": 4,
 "nbformat_minor": 2
}
