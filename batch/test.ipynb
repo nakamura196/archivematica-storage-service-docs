{
 "cells": [
  {
   "cell_type": "code",
   "execution_count": 27,
   "metadata": {},
   "outputs": [
    {
     "name": "stdout",
     "output_type": "stream",
     "text": [
      "The autoreload extension is already loaded. To reload it, use:\n",
      "  %reload_ext autoreload\n"
     ]
    }
   ],
   "source": [
    "import polib\n",
    "from openai import OpenAI\n",
    "from dotenv import load_dotenv\n",
    "import os\n",
    "from tqdm import tqdm\n",
    "import glob\n",
    "%load_ext autoreload\n",
    "%autoreload 2\n",
    "from common import desired_text, add_space_around_special_phrase, translate_text_to_japanese, create_batches"
   ]
  },
  {
   "cell_type": "code",
   "execution_count": 28,
   "metadata": {},
   "outputs": [],
   "source": [
    "load_dotenv(override=True)\n",
    "client = OpenAI(api_key=os.getenv(\"OPENAI_API_KEY\"))"
   ]
  },
  {
   "cell_type": "code",
   "execution_count": 29,
   "metadata": {},
   "outputs": [],
   "source": [
    "files = glob.glob(\"../locales/en/LC_MESSAGES/**/*.po\", recursive=True)\n",
    "files.sort()"
   ]
  },
  {
   "cell_type": "code",
   "execution_count": 30,
   "metadata": {},
   "outputs": [
    {
     "name": "stderr",
     "output_type": "stream",
     "text": [
      "外側のループ:   0%|          | 0/8 [00:00<?, ?it/s]"
     ]
    },
    {
     "name": "stdout",
     "output_type": "stream",
     "text": [
      "../locales/en/LC_MESSAGES/administrators.po 65510\n"
     ]
    },
    {
     "name": "stderr",
     "output_type": "stream",
     "text": []
    },
    {
     "name": "stderr",
     "output_type": "stream",
     "text": [
      "外側のループ:  12%|█▎        | 1/8 [39:17<4:35:03, 2357.59s/it]"
     ]
    },
    {
     "name": "stdout",
     "output_type": "stream",
     "text": [
      "../locales/en/LC_MESSAGES/contents.po 979\n"
     ]
    },
    {
     "name": "stderr",
     "output_type": "stream",
     "text": [
      "外側のループ:  25%|██▌       | 2/8 [39:32<1:37:57, 979.58s/it] "
     ]
    },
    {
     "name": "stdout",
     "output_type": "stream",
     "text": [
      "../locales/en/LC_MESSAGES/fixity.po 4297\n"
     ]
    },
    {
     "name": "stderr",
     "output_type": "stream",
     "text": [
      "外側のループ:  38%|███▊      | 3/8 [41:20<48:27, 581.54s/it]  "
     ]
    },
    {
     "name": "stdout",
     "output_type": "stream",
     "text": [
      "../locales/en/LC_MESSAGES/index.po 4590\n"
     ]
    },
    {
     "name": "stderr",
     "output_type": "stream",
     "text": [
      "外側のループ:  50%|█████     | 4/8 [43:49<27:23, 410.77s/it]"
     ]
    },
    {
     "name": "stdout",
     "output_type": "stream",
     "text": [
      "../locales/en/LC_MESSAGES/install.po 2025\n"
     ]
    },
    {
     "name": "stderr",
     "output_type": "stream",
     "text": [
      "外側のループ:  62%|██████▎   | 5/8 [44:55<14:19, 286.63s/it]"
     ]
    },
    {
     "name": "stdout",
     "output_type": "stream",
     "text": [
      "../locales/en/LC_MESSAGES/management.po 3086\n"
     ]
    },
    {
     "name": "stderr",
     "output_type": "stream",
     "text": [
      "外側のループ:  75%|███████▌  | 6/8 [46:24<07:18, 219.38s/it]"
     ]
    },
    {
     "name": "stdout",
     "output_type": "stream",
     "text": [
      "../locales/en/LC_MESSAGES/migration-sqlite-mysql.po 2302\n"
     ]
    },
    {
     "name": "stderr",
     "output_type": "stream",
     "text": [
      "外側のループ:  88%|████████▊ | 7/8 [47:10<02:42, 162.63s/it]"
     ]
    },
    {
     "name": "stdout",
     "output_type": "stream",
     "text": [
      "Syntax error in po file ../locales/ja/LC_MESSAGES/migration-sqlite-mysql.po (line 79)\n",
      "../locales/ja/LC_MESSAGES/migration-sqlite-mysql.po\n",
      "../locales/en/LC_MESSAGES/recovery.po 5959\n"
     ]
    },
    {
     "name": "stderr",
     "output_type": "stream",
     "text": [
      "外側のループ: 100%|██████████| 8/8 [49:35<00:00, 371.92s/it]\n"
     ]
    }
   ],
   "source": [
    "for file in tqdm(files, desc=\"外側のループ\"):\n",
    "\n",
    "    opath = file.replace(\"/en/\", \"/ja/\")\n",
    "\n",
    "    if os.path.exists(opath):\n",
    "        continue\n",
    "\n",
    "    with open(file, \"r\") as f:\n",
    "        po_text = f.read()\n",
    "\n",
    "    print(file, len(po_text))\n",
    "\n",
    "    lines = po_text.split(\"\\n\\n\")\n",
    "\n",
    "    batches = create_batches(lines)\n",
    "\n",
    "    result_merged = \"\"\n",
    "\n",
    "    for batch in tqdm(batches, desc=\"内側のループ\", leave=False):\n",
    "\n",
    "        po_batch_text = \"\\n\\n\".join(batch)\n",
    "\n",
    "        po_batch_text = f'''# SOME DESCRIPTIVE TITLE.\n",
    "# Copyright (C) 2023, Artefactual Systems Inc.\n",
    "# This file is distributed under the same license as the Archivematica\n",
    "# package.\n",
    "# FIRST AUTHOR <EMAIL@ADDRESS>, 2024.\n",
    "#\n",
    "#, fuzzy\n",
    "msgid \"\"\n",
    "msgstr \"\"\n",
    "\n",
    "### START ###\n",
    "\n",
    "{po_batch_text}'''\n",
    "\n",
    "        result = translate_text_to_japanese(client, po_batch_text)\n",
    "\n",
    "        fixed_result = desired_text(result)\n",
    "\n",
    "        result_merged += fixed_result + \"\\n\\n\"\n",
    "        \n",
    "    opath = file.replace(\"/en/\", \"/ja/\")\n",
    "\n",
    "    os.makedirs(os.path.dirname(opath), exist_ok=True)\n",
    "\n",
    "    with open(opath, \"w\") as f:\n",
    "        f.write(result_merged)\n",
    "\n",
    "    try:\n",
    "        po = polib.pofile(opath)\n",
    "\n",
    "        for entry in po:\n",
    "            msgstr = entry.msgstr\n",
    "            entry.msgstr = add_space_around_special_phrase(msgstr)\n",
    "\n",
    "        \n",
    "        os.makedirs(os.path.dirname(opath), exist_ok=True)\n",
    "\n",
    "        po.save(opath)\n",
    "\n",
    "    except Exception as e:\n",
    "        print(e)\n",
    "        print(opath)\n",
    "        continue"
   ]
  }
 ],
 "metadata": {
  "kernelspec": {
   "display_name": ".venv",
   "language": "python",
   "name": "python3"
  },
  "language_info": {
   "codemirror_mode": {
    "name": "ipython",
    "version": 3
   },
   "file_extension": ".py",
   "mimetype": "text/x-python",
   "name": "python",
   "nbconvert_exporter": "python",
   "pygments_lexer": "ipython3",
   "version": "3.9.11"
  }
 },
 "nbformat": 4,
 "nbformat_minor": 2
}
